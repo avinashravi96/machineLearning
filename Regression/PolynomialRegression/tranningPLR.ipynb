{
 "cells": [
  {
   "cell_type": "code",
   "execution_count": 2,
   "metadata": {},
   "outputs": [],
   "source": [
    "import numpy as np\n",
    "import pandas as pd\n",
    "import matplotlib.pyplot as plt\n",
    "import seaborn as sns\n",
    "%matplotlib inline"
   ]
  },
  {
   "cell_type": "code",
   "execution_count": 3,
   "metadata": {},
   "outputs": [],
   "source": [
    "df=pd.read_csv(\"Car_price.csv\")"
   ]
  },
  {
   "cell_type": "code",
   "execution_count": 3,
   "metadata": {},
   "outputs": [
    {
     "data": {
      "text/html": [
       "<div>\n",
       "<style scoped>\n",
       "    .dataframe tbody tr th:only-of-type {\n",
       "        vertical-align: middle;\n",
       "    }\n",
       "\n",
       "    .dataframe tbody tr th {\n",
       "        vertical-align: top;\n",
       "    }\n",
       "\n",
       "    .dataframe thead th {\n",
       "        text-align: right;\n",
       "    }\n",
       "</style>\n",
       "<table border=\"1\" class=\"dataframe\">\n",
       "  <thead>\n",
       "    <tr style=\"text-align: right;\">\n",
       "      <th></th>\n",
       "      <th>wheel-base</th>\n",
       "      <th>length</th>\n",
       "      <th>width</th>\n",
       "      <th>height</th>\n",
       "      <th>curb-weight</th>\n",
       "      <th>engine-size</th>\n",
       "      <th>bore</th>\n",
       "      <th>stroke</th>\n",
       "      <th>compression-ratio</th>\n",
       "      <th>horsepower</th>\n",
       "      <th>peak-rpm</th>\n",
       "      <th>city-mpg</th>\n",
       "      <th>highway-mpg</th>\n",
       "      <th>price</th>\n",
       "    </tr>\n",
       "  </thead>\n",
       "  <tbody>\n",
       "    <tr>\n",
       "      <th>0</th>\n",
       "      <td>88.4</td>\n",
       "      <td>141.1</td>\n",
       "      <td>60.3</td>\n",
       "      <td>53.2</td>\n",
       "      <td>1488</td>\n",
       "      <td>61</td>\n",
       "      <td>2.91</td>\n",
       "      <td>3.03</td>\n",
       "      <td>9.5</td>\n",
       "      <td>48</td>\n",
       "      <td>5100</td>\n",
       "      <td>47</td>\n",
       "      <td>53</td>\n",
       "      <td>5151</td>\n",
       "    </tr>\n",
       "    <tr>\n",
       "      <th>1</th>\n",
       "      <td>86.6</td>\n",
       "      <td>144.6</td>\n",
       "      <td>63.9</td>\n",
       "      <td>50.8</td>\n",
       "      <td>1713</td>\n",
       "      <td>92</td>\n",
       "      <td>2.91</td>\n",
       "      <td>3.41</td>\n",
       "      <td>9.6</td>\n",
       "      <td>58</td>\n",
       "      <td>4800</td>\n",
       "      <td>49</td>\n",
       "      <td>54</td>\n",
       "      <td>6479</td>\n",
       "    </tr>\n",
       "    <tr>\n",
       "      <th>2</th>\n",
       "      <td>86.6</td>\n",
       "      <td>144.6</td>\n",
       "      <td>63.9</td>\n",
       "      <td>50.8</td>\n",
       "      <td>1819</td>\n",
       "      <td>92</td>\n",
       "      <td>2.91</td>\n",
       "      <td>3.41</td>\n",
       "      <td>9.2</td>\n",
       "      <td>76</td>\n",
       "      <td>6000</td>\n",
       "      <td>31</td>\n",
       "      <td>38</td>\n",
       "      <td>6855</td>\n",
       "    </tr>\n",
       "    <tr>\n",
       "      <th>3</th>\n",
       "      <td>93.7</td>\n",
       "      <td>150.0</td>\n",
       "      <td>64.0</td>\n",
       "      <td>52.6</td>\n",
       "      <td>1837</td>\n",
       "      <td>79</td>\n",
       "      <td>2.91</td>\n",
       "      <td>3.07</td>\n",
       "      <td>10.1</td>\n",
       "      <td>60</td>\n",
       "      <td>5500</td>\n",
       "      <td>38</td>\n",
       "      <td>42</td>\n",
       "      <td>5399</td>\n",
       "    </tr>\n",
       "    <tr>\n",
       "      <th>4</th>\n",
       "      <td>93.7</td>\n",
       "      <td>150.0</td>\n",
       "      <td>64.0</td>\n",
       "      <td>52.6</td>\n",
       "      <td>1940</td>\n",
       "      <td>92</td>\n",
       "      <td>2.91</td>\n",
       "      <td>3.41</td>\n",
       "      <td>9.2</td>\n",
       "      <td>76</td>\n",
       "      <td>6000</td>\n",
       "      <td>30</td>\n",
       "      <td>34</td>\n",
       "      <td>6529</td>\n",
       "    </tr>\n",
       "  </tbody>\n",
       "</table>\n",
       "</div>"
      ],
      "text/plain": [
       "   wheel-base  length  width  height  curb-weight  engine-size  bore  stroke  \\\n",
       "0        88.4   141.1   60.3    53.2         1488           61  2.91    3.03   \n",
       "1        86.6   144.6   63.9    50.8         1713           92  2.91    3.41   \n",
       "2        86.6   144.6   63.9    50.8         1819           92  2.91    3.41   \n",
       "3        93.7   150.0   64.0    52.6         1837           79  2.91    3.07   \n",
       "4        93.7   150.0   64.0    52.6         1940           92  2.91    3.41   \n",
       "\n",
       "   compression-ratio  horsepower  peak-rpm  city-mpg  highway-mpg  price  \n",
       "0                9.5          48      5100        47           53   5151  \n",
       "1                9.6          58      4800        49           54   6479  \n",
       "2                9.2          76      6000        31           38   6855  \n",
       "3               10.1          60      5500        38           42   5399  \n",
       "4                9.2          76      6000        30           34   6529  "
      ]
     },
     "execution_count": 3,
     "metadata": {},
     "output_type": "execute_result"
    }
   ],
   "source": [
    "df.head()"
   ]
  },
  {
   "cell_type": "code",
   "execution_count": 5,
   "metadata": {},
   "outputs": [
    {
     "data": {
      "text/html": [
       "<div>\n",
       "<style scoped>\n",
       "    .dataframe tbody tr th:only-of-type {\n",
       "        vertical-align: middle;\n",
       "    }\n",
       "\n",
       "    .dataframe tbody tr th {\n",
       "        vertical-align: top;\n",
       "    }\n",
       "\n",
       "    .dataframe thead th {\n",
       "        text-align: right;\n",
       "    }\n",
       "</style>\n",
       "<table border=\"1\" class=\"dataframe\">\n",
       "  <thead>\n",
       "    <tr style=\"text-align: right;\">\n",
       "      <th></th>\n",
       "      <th>wheel-base</th>\n",
       "      <th>length</th>\n",
       "      <th>width</th>\n",
       "      <th>height</th>\n",
       "      <th>curb-weight</th>\n",
       "      <th>engine-size</th>\n",
       "      <th>bore</th>\n",
       "      <th>stroke</th>\n",
       "      <th>compression-ratio</th>\n",
       "      <th>horsepower</th>\n",
       "      <th>peak-rpm</th>\n",
       "      <th>city-mpg</th>\n",
       "      <th>highway-mpg</th>\n",
       "      <th>price</th>\n",
       "    </tr>\n",
       "  </thead>\n",
       "  <tbody>\n",
       "    <tr>\n",
       "      <th>1</th>\n",
       "      <td>86.6</td>\n",
       "      <td>144.6</td>\n",
       "      <td>63.9</td>\n",
       "      <td>50.8</td>\n",
       "      <td>1713</td>\n",
       "      <td>92</td>\n",
       "      <td>2.91</td>\n",
       "      <td>3.41</td>\n",
       "      <td>9.6</td>\n",
       "      <td>58</td>\n",
       "      <td>4800</td>\n",
       "      <td>49</td>\n",
       "      <td>54</td>\n",
       "      <td>6479</td>\n",
       "    </tr>\n",
       "    <tr>\n",
       "      <th>2</th>\n",
       "      <td>86.6</td>\n",
       "      <td>144.6</td>\n",
       "      <td>63.9</td>\n",
       "      <td>50.8</td>\n",
       "      <td>1819</td>\n",
       "      <td>92</td>\n",
       "      <td>2.91</td>\n",
       "      <td>3.41</td>\n",
       "      <td>9.2</td>\n",
       "      <td>76</td>\n",
       "      <td>6000</td>\n",
       "      <td>31</td>\n",
       "      <td>38</td>\n",
       "      <td>6855</td>\n",
       "    </tr>\n",
       "  </tbody>\n",
       "</table>\n",
       "</div>"
      ],
      "text/plain": [
       "   wheel-base  length  width  height  curb-weight  engine-size  bore  stroke  \\\n",
       "1        86.6   144.6   63.9    50.8         1713           92  2.91    3.41   \n",
       "2        86.6   144.6   63.9    50.8         1819           92  2.91    3.41   \n",
       "\n",
       "   compression-ratio  horsepower  peak-rpm  city-mpg  highway-mpg  price  \n",
       "1                9.6          58      4800        49           54   6479  \n",
       "2                9.2          76      6000        31           38   6855  "
      ]
     },
     "execution_count": 5,
     "metadata": {},
     "output_type": "execute_result"
    }
   ],
   "source": [
    "df.loc[2]\n",
    "df.loc[[1,2]]\n",
    "df.loc[1:3,'NAME':'BRANCH']\n"
   ]
  },
  {
   "cell_type": "code",
   "execution_count": 4,
   "metadata": {},
   "outputs": [
    {
     "name": "stdout",
     "output_type": "stream",
     "text": [
      "(159, 13)\n",
      "(159,)\n"
     ]
    }
   ],
   "source": [
    "x=df.iloc[:,:-1].values\n",
    "y=df.iloc[:,-1].values\n",
    "print(x.shape)\n",
    "print(y.shape)"
   ]
  },
  {
   "cell_type": "code",
   "execution_count": 5,
   "metadata": {},
   "outputs": [],
   "source": [
    "from sklearn.model_selection import train_test_split\n",
    "x_train,x_test,y_train,y_test=train_test_split(x,y,test_size=0.2,random_state=36)"
   ]
  },
  {
   "cell_type": "code",
   "execution_count": 6,
   "metadata": {},
   "outputs": [],
   "source": [
    "from sklearn.preprocessing import PolynomialFeatures\n",
    "poly_reg=PolynomialFeatures(degree=3)\n",
    "x_poly=poly_reg.fit_transform(x_train[:,0:1],y_train)"
   ]
  },
  {
   "cell_type": "code",
   "execution_count": 7,
   "metadata": {},
   "outputs": [
    {
     "data": {
      "text/plain": [
       "<matplotlib.axes._subplots.AxesSubplot at 0x19aea455da0>"
      ]
     },
     "execution_count": 7,
     "metadata": {},
     "output_type": "execute_result"
    },
    {
     "data": {
      "image/png": "[encoded data removed]",
      "text/plain": [
       "<Figure size 432x288 with 1 Axes>"
      ]
     },
     "metadata": {},
     "output_type": "display_data"
    }
   ],
   "source": [
    "sns.regplot(x_train[:,0],y_train,order=4,ci=50)"
   ]
  },
  {
   "cell_type": "code",
   "execution_count": 8,
   "metadata": {},
   "outputs": [
    {
     "data": {
      "text/plain": [
       "LinearRegression(copy_X=True, fit_intercept=True, n_jobs=1, normalize=False)"
      ]
     },
     "execution_count": 8,
     "metadata": {},
     "output_type": "execute_result"
    }
   ],
   "source": [
    "from sklearn.linear_model import LinearRegression\n",
    "regressor=LinearRegression(fit_intercept=True)\n",
    "regressor.fit(x_train[:,0:1],y_train)"
   ]
  },
  {
   "cell_type": "code",
   "execution_count": 9,
   "metadata": {},
   "outputs": [
    {
     "name": "stdout",
     "output_type": "stream",
     "text": [
      "0.594653450386103\n",
      "0.29044186677362915\n"
     ]
    }
   ],
   "source": [
    "from sklearn.metrics import r2_score\n",
    "print(regressor.score(x_train[:,0:1],y_train))\n",
    "print(regressor.score(x_test[:,0:1],y_test))\n"
   ]
  },
  {
   "cell_type": "code",
   "execution_count": 10,
   "metadata": {},
   "outputs": [
    {
     "name": "stdout",
     "output_type": "stream",
     "text": [
      "1  column\n",
      "linear Regression\n",
      "R2 of train: 0.594653450386103\n",
      "R2 of test: 0.29044186677362915\n",
      "\n",
      "2  column\n",
      "linear Regression\n",
      "R2 of train: 0.5874115257309271\n",
      "R2 of test: 0.539100432854064\n",
      "\n",
      "3  column\n",
      "linear Regression\n",
      "R2 of train: 0.684122437251421\n",
      "R2 of test: 0.8240670521198155\n",
      "\n",
      "4  column\n",
      "linear Regression\n",
      "R2 of train: 0.06812077412745243\n",
      "R2 of test: 0.021211525756941074\n",
      "\n",
      "5  column\n",
      "linear Regression\n",
      "R2 of train: 0.7882611301737484\n",
      "R2 of test: 0.8387402250738003\n",
      "\n",
      "6  column\n",
      "linear Regression\n",
      "R2 of train: 0.7223029385442026\n",
      "R2 of test: 0.6462477166897587\n",
      "\n",
      "7  column\n",
      "linear Regression\n",
      "R2 of train: 0.3299277413769338\n",
      "R2 of test: 0.07447966481982948\n",
      "\n",
      "8  column\n",
      "linear Regression\n",
      "R2 of train: 0.024593558346898137\n",
      "R2 of test: 0.02778257667037831\n",
      "\n",
      "9  column\n",
      "linear Regression\n",
      "R2 of train: 0.03196108607799086\n",
      "R2 of test: 0.0820461670585273\n",
      "\n",
      "10  column\n",
      "linear Regression\n",
      "R2 of train: 0.5601037599396204\n",
      "R2 of test: 0.6452660529672234\n",
      "\n",
      "11  column\n",
      "linear Regression\n",
      "R2 of train: 0.042192704510829016\n",
      "R2 of test: -0.031368034266988865\n",
      "\n",
      "12  column\n",
      "linear Regression\n",
      "R2 of train: 0.45799198316331646\n",
      "R2 of test: 0.5561643280193903\n",
      "\n",
      "13  column\n",
      "linear Regression\n",
      "R2 of train: 0.5049377551596348\n",
      "R2 of test: 0.5655485641087041\n",
      "\n"
     ]
    }
   ],
   "source": [
    "for col in range(13):\n",
    "    temp=x_train[:,col:col+1]\n",
    "    test=x_test[:,col:col+1]\n",
    "    reg=LinearRegression()\n",
    "    reg.fit(temp,y_train)\n",
    "    print(col+1,\" column\")\n",
    "    print(\"linear Regression\")\n",
    "    print(\"R2 of train:\",reg.score(temp,y_train))\n",
    "    print(\"R2 of test:\",reg.score(test,y_test))\n",
    "    print()"
   ]
  },
  {
   "cell_type": "code",
   "execution_count": 11,
   "metadata": {},
   "outputs": [],
   "source": [
    "x_train=x_train[:,[0,1,2,4,5,9,12]] #removing mlr"
   ]
  },
  {
   "cell_type": "code",
   "execution_count": 12,
   "metadata": {},
   "outputs": [],
   "source": [
    "x_test=x_test[:,[0,1,2,4,5,9,12]] #removing mlr"
   ]
  },
  {
   "cell_type": "code",
   "execution_count": 13,
   "metadata": {},
   "outputs": [
    {
     "data": {
      "text/plain": [
       "LinearRegression(copy_X=True, fit_intercept=True, n_jobs=1, normalize=False)"
      ]
     },
     "execution_count": 13,
     "metadata": {},
     "output_type": "execute_result"
    }
   ],
   "source": [
    "from sklearn.linear_model import LinearRegression\n",
    "regressor=LinearRegression(fit_intercept=True)\n",
    "regressor.fit(x_train,y_train)\n"
   ]
  },
  {
   "cell_type": "code",
   "execution_count": 14,
   "metadata": {},
   "outputs": [
    {
     "name": "stdout",
     "output_type": "stream",
     "text": [
      "0.8292178665602177\n",
      "0.849574742291106\n"
     ]
    }
   ],
   "source": [
    "print(regressor.score(x_train,y_train))\n",
    "print(regressor.score(x_test,y_test))"
   ]
  },
  {
   "cell_type": "markdown",
   "metadata": {},
   "source": [
    "# Polynomial Regression"
   ]
  },
  {
   "cell_type": "code",
   "execution_count": null,
   "metadata": {},
   "outputs": [],
   "source": [
    "from sklearn.preprocesing import PolynomialFeature"
   ]
  }
 ],
 "metadata": {
  "kernelspec": {
   "display_name": "Python 3",
   "language": "python",
   "name": "python3"
  },
  "language_info": {
   "codemirror_mode": {
    "name": "ipython",
    "version": 3
   },
   "file_extension": ".py",
   "mimetype": "text/x-python",
   "name": "python",
   "nbconvert_exporter": "python",
   "pygments_lexer": "ipython3",
   "version": "3.5.2"
  }
 },
 "nbformat": 4,
 "nbformat_minor": 2
}
